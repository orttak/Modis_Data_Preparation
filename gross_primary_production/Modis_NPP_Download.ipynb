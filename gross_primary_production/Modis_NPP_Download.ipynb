{
 "cells": [
  {
   "cell_type": "code",
   "execution_count": 114,
   "metadata": {},
   "outputs": [],
   "source": [
    "def ListofExtensionAndName(directory,extension):\n",
    "     \n",
    "        if len(directory) != None:\n",
    "            import os\n",
    "            FilesList = []\n",
    "            FileName=[]\n",
    "            for root, subdirectory, files in os.walk(directory):\n",
    "                for file in files:\n",
    "                    if file.endswith(extension):\n",
    "                        FilesList.append(os.path.join(root,file))\n",
    "                        base=os.path.basename(file)\n",
    "                        FileName.append(os.path.splitext(base)[0])\n",
    "\n",
    "            return sorted(FilesList),sorted(FileName)\n",
    "        else:\n",
    "            print(\"no\"+ extension +\"file for this directory\")"
   ]
  },
  {
   "cell_type": "code",
   "execution_count": 113,
   "metadata": {},
   "outputs": [],
   "source": [
    "import config\n",
    "username=config.username\n",
    "password=config.password"
   ]
  },
  {
   "cell_type": "code",
   "execution_count": 111,
   "metadata": {},
   "outputs": [],
   "source": [
    "import time\n",
    "import sys"
   ]
  },
  {
   "cell_type": "code",
   "execution_count": 88,
   "metadata": {},
   "outputs": [],
   "source": [
    "from bs4 import BeautifulSoup\n",
    "import os\n",
    "import re\n",
    "import requests\n",
    "from selenium import webdriver\n",
    "from selenium.webdriver.firefox.options import Options\n",
    "import requests\n",
    "from osgeo import gdal,osr\n",
    "import numpy\n",
    "# If you are running Firefox on a system with no display, make sure you use headless mode.\n",
    "# We use Selenium to export information from map\n",
    "options = Options()\n",
    "options.headless = True\n",
    "driver = webdriver.Firefox(options=options)\n",
    "url='https://e4ftl01.cr.usgs.gov/MOLA/MYD17A3HGF.006/'\n",
    "driver.get(url)"
   ]
  },
  {
   "cell_type": "code",
   "execution_count": 2,
   "metadata": {},
   "outputs": [],
   "source": [
    "modis_page=BeautifulSoup(driver.page_source,'html.parser')"
   ]
  },
  {
   "cell_type": "code",
   "execution_count": 7,
   "metadata": {},
   "outputs": [
    {
     "data": {
      "text/plain": [
       "[<a href=\"2002.07.04/\">2002.07.04/</a>, <a href=\"2003.01.01/\">2003.01.01/</a>]"
      ]
     },
     "execution_count": 7,
     "metadata": {},
     "output_type": "execute_result"
    }
   ],
   "source": [
    "year_list=modis_page.find_all('a')[8:]\n",
    "year_list[0:2]"
   ]
  },
  {
   "cell_type": "code",
   "execution_count": 12,
   "metadata": {},
   "outputs": [],
   "source": [
    "main_folder='../geoserver_data/2020_Modis_NPP/'"
   ]
  },
  {
   "cell_type": "code",
   "execution_count": 19,
   "metadata": {},
   "outputs": [],
   "source": [
    "for year in year_list:\n",
    "    folder_path=main_folder+str(year['href'])\n",
    "    os.mkdir(folder_path)"
   ]
  },
  {
   "cell_type": "code",
   "execution_count": 78,
   "metadata": {},
   "outputs": [],
   "source": [
    "import http.cookiejar as CookieJar\n",
    "from urllib.parse import urlencode \n",
    "import urllib.request as urllib2"
   ]
  },
  {
   "cell_type": "code",
   "execution_count": null,
   "metadata": {},
   "outputs": [],
   "source": [
    "for year in year_list:\n",
    "    url='https://e4ftl01.cr.usgs.gov/MOLA/MYD17A3HGF.006/'\n",
    "    url_year=url+str(year['href'])\n",
    "    year_info=int(str(year['href']).split('.')[0])\n",
    "    if year_info<2018:\n",
    "        print(year_info)\n",
    "        continue\n",
    "    page=requests.get(url_year)\n",
    "    year_page=BeautifulSoup(page.content,'html.parser')\n",
    "    links = year_page.findAll(href=re.compile(\"\\.hdf$\"))\n",
    "    download_path=main_folder+str(year['href'])\n",
    "    \n",
    "    for l in links:\n",
    "        #raw_url='https://e4ftl01.cr.usgs.gov/MOLA/MYD17A3HGF.006/2002.07.04/'\n",
    "        url_img=url_year+l['href']       \n",
    "        \n",
    "        username = username\n",
    "        password = password\n",
    "        password_manager = urllib2.HTTPPasswordMgrWithDefaultRealm()\n",
    "        password_manager.add_password(None, \"https://urs.earthdata.nasa.gov\", username, password)\n",
    "        cookie_jar = CookieJar.CookieJar()\n",
    "        opener = urllib2.build_opener(urllib2.HTTPBasicAuthHandler(password_manager),\n",
    "                                      #urllib2.HTTPHandler(debuglevel=1),    # Uncomment these two lines to see\n",
    "                                      #urllib2.HTTPSHandler(debuglevel=1),   # details of the requests/responses\n",
    "                                      urllib2.HTTPCookieProcessor(cookie_jar))\n",
    "        urllib2.install_opener(opener)\n",
    "        request = urllib2.Request(url_img)\n",
    "        response = urllib2.urlopen(request)\n",
    "        image_path=download_path+l['href'] \n",
    "        image_bool=False\n",
    "        while image_bool is False:\n",
    "            try:\n",
    "                with open(image_path, 'wb') as f:\n",
    "                    f.write(response.read())\n",
    "                    image_bool=True\n",
    "            except ConnectionRefusedError:\n",
    "                time.sleep(10)\n",
    "                image_bool=False\n",
    "                pass\n",
    "            except NewConnectionError:\n",
    "                time.sleep(10)\n",
    "                image_bool=False\n",
    "                pass\n",
    "            except MaxRetryError:\n",
    "                time.sleep(10)\n",
    "                image_bool=False\n",
    "                pass\n",
    "            except ConnectionError:\n",
    "                time.sleep(10)\n",
    "                image_bool=False\n",
    "                pass\n",
    "            except:\n",
    "                time.sleep(10)\n",
    "                print (\"Unexpected error:\", sys.exc_info()[0])\n",
    "                image_bool=False\n",
    "                pass\n",
    "        \n",
    "    modis_files=ListofExtensionAndName(download_path,'hdf')\n",
    "    os.mkdir(download_path+'tif')\n",
    "    \n",
    "    for index,img in enumerate(modis_files[0]):\n",
    "        img_path='HDF4_EOS:EOS_GRID:'+'\"{}\"'.format(img)+':MOD_Grid_MOD17A3H:Npp_500m'\n",
    "        hdf_ds = gdal.Open(img_path, gdal.GA_ReadOnly)\n",
    "        array_img=hdf_ds.ReadAsArray()\n",
    "        np_where_img = numpy.where((array_img>32760),-32768,(array_img))\n",
    "        check=numpy.all(np_where_img==-32768)\n",
    "        if check:\n",
    "            #print(img)\n",
    "            continue    \n",
    "        s_srs = hdf_ds.GetProjectionRef()\n",
    "        osng = osr.SpatialReference ()\n",
    "        osng.SetFromUserInput ( s_srs )\n",
    "        geo_t = hdf_ds.GetGeoTransform ()\n",
    "        x_size = hdf_ds.RasterXSize # Raster xsize\n",
    "        y_size = hdf_ds.RasterYSize # Raster ysize\n",
    "        #create gdal memory file to convert image to EPSG:4326\n",
    "        mem_drv = gdal.GetDriverByName( 'MEM' )\n",
    "        dest = mem_drv.Create('', x_size,y_size, 1, gdal.GDT_Int16)\n",
    "        dest.SetGeoTransform( geo_t )\n",
    "        dest.SetProjection ( osng.ExportToWkt() )\n",
    "        dest.GetRasterBand(1).SetNoDataValue(-32768)\n",
    "        dest.GetRasterBand(1).WriteArray(np_where_img)\n",
    "        output_folder=os.path.dirname(img)\n",
    "        output_path=output_folder+'/tif/'+modis_files[1][index]+'.tif'\n",
    "        gdal.Warp(output_path, dest, format = 'GTiff',srcNodata=-32768,dstNodata=-32768)\n",
    "        dst_ds=None\n",
    "        mem_drv=None\n",
    "        \n",
    "        \n",
    "    tif_list=ListofExtensionAndName(download_path+'tif','.tif')\n",
    "    txt_name=year['href'][0:-1]+'.txt'\n",
    "    # write all image' path into .txt file\n",
    "    with open(txt_name, 'w') as f:\n",
    "        for item in tif_list[0]:\n",
    "            f.write(\"%s\\n\" % item)\n",
    "    \n",
    "    mosaic_tif_name='../geoserver_data/2020_Modis_NPP/NPP_Mosaic/'+'NPP_'+year['href'][0:-1]+'.tif'\n",
    "    print(mosaic_tif_name)\n",
    "    # use gdal_merge with .txt file that include images list\n",
    "    command = \"gdal_merge.py -n -32768 -a_nodata -32768 -ot Int16 -of GTiff -o %s --optfile %s\" % (mosaic_tif_name, txt_name)\n",
    "\n",
    "    # Run the command. os.system() returns value zero if the command was executed succesfully\n",
    "    os.system(command)\n",
    "\n",
    "       "
   ]
  },
  {
   "cell_type": "code",
   "execution_count": 115,
   "metadata": {},
   "outputs": [],
   "source": [
    "#get the list of mosaic image\n",
    "mosaic_list=ListofExtensionAndName('../geoserver_data/2020_Modis_NPP/NPP_Mosaic','tif')"
   ]
  },
  {
   "cell_type": "markdown",
   "metadata": {},
   "source": [
    "#### Convert npp mosaic images to epsg:4326"
   ]
  },
  {
   "cell_type": "code",
   "execution_count": 123,
   "metadata": {},
   "outputs": [],
   "source": [
    "output_folder='../geoserver_data/2020_Modis_NPP/NPP_Mosaic_4326/'\n",
    "for img in mosaic_list[0]:\n",
    "    img_name=os.path.basename(img)\n",
    "    img_path=output_folder+img_name\n",
    "    gdal.Warp(img_path, img, format = 'GTiff',srcSRS='+proj=sinu +R=6371007.181 +nadgrids=@null +wktext' ,dstSRS = 'EPSG:4326',srcNodata=-32768,dstNodata=-32768)\n",
    "    \n",
    "    "
   ]
  },
  {
   "cell_type": "code",
   "execution_count": null,
   "metadata": {},
   "outputs": [],
   "source": []
  },
  {
   "cell_type": "code",
   "execution_count": null,
   "metadata": {},
   "outputs": [],
   "source": []
  },
  {
   "cell_type": "code",
   "execution_count": null,
   "metadata": {},
   "outputs": [],
   "source": []
  }
 ],
 "metadata": {
  "kernelspec": {
   "display_name": "Python 3",
   "language": "python",
   "name": "python3"
  },
  "language_info": {
   "codemirror_mode": {
    "name": "ipython",
    "version": 3
   },
   "file_extension": ".py",
   "mimetype": "text/x-python",
   "name": "python",
   "nbconvert_exporter": "python",
   "pygments_lexer": "ipython3",
   "version": "3.6.9"
  }
 },
 "nbformat": 4,
 "nbformat_minor": 4
}
