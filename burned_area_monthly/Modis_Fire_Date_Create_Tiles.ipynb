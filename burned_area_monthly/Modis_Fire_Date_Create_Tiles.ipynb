{
 "cells": [
  {
   "cell_type": "markdown",
   "metadata": {},
   "source": [
    "### Create tiles from Modis Fire Date anual data( max value)"
   ]
  },
  {
   "cell_type": "code",
   "execution_count": 1,
   "metadata": {},
   "outputs": [],
   "source": [
    "from osgeo import gdal,ogr,osr\n",
    "import pandas as pd\n",
    "import geopandas as gpd\n",
    "from shapely import wkt\n",
    "from itertools import compress\n",
    "import numpy as np\n",
    "import matplotlib.pyplot as plt\n",
    "import os\n",
    "import glob\n",
    "import numpy"
   ]
  },
  {
   "cell_type": "code",
   "execution_count": 2,
   "metadata": {},
   "outputs": [],
   "source": [
    "def ImageBoundry(FilePath):\n",
    "        #for aspect data\n",
    "        imgname=FilePath\n",
    "\n",
    "        from osgeo import gdal,ogr\n",
    "        ds = gdal.Open(FilePath)\n",
    "        gt = ds.GetGeoTransform()  # captures origin and pixel size\n",
    "        srs = osr.SpatialReference()\n",
    "        srs.ImportFromEPSG(4326)\n",
    "        \n",
    "\n",
    "        \n",
    "        ULC = gdal.ApplyGeoTransform(gt, 0, 0) #Upper Left Corner\n",
    "        URC = gdal.ApplyGeoTransform(gt, ds.RasterXSize, 0) #Upper Right Corner\n",
    "        LLC = gdal.ApplyGeoTransform(gt, 0, ds.RasterYSize) #Lower Left Corner\n",
    "        LRC = gdal.ApplyGeoTransform(gt, ds.RasterXSize, ds.RasterYSize) #Lower Right Corner\n",
    "                   \n",
    "        ring = ogr.Geometry(ogr.wkbLinearRing)\n",
    "        ring.AddPoint_2D(ULC[0], ULC[1])\n",
    "        ring.AddPoint_2D(URC[0], URC[1])\n",
    "        ring.AddPoint_2D(LRC[0], LRC[1])\n",
    "        ring.AddPoint_2D(LLC[0], LLC[1])\n",
    "        ring.AddPoint_2D(ULC[0], ULC[1]) \n",
    "        poly=ogr.Geometry(ogr.wkbPolygon)\n",
    "        poly.AddGeometry(ring)\n",
    "        #poly.SpatialReference('EPSG:4326')\n",
    "        # second item is name of the image\n",
    "        return poly.ExportToJson() ,imgname"
   ]
  },
  {
   "cell_type": "code",
   "execution_count": 3,
   "metadata": {},
   "outputs": [],
   "source": [
    "mosaic_files=glob.glob('../data/Modis_Fire_Date/max_tif_mosaic_4326/*')\n",
    "mosaic_files=sorted(mosaic_files)\n"
   ]
  },
  {
   "cell_type": "code",
   "execution_count": null,
   "metadata": {},
   "outputs": [],
   "source": []
  },
  {
   "cell_type": "code",
   "execution_count": 8,
   "metadata": {},
   "outputs": [
    {
     "name": "stdout",
     "output_type": "stream",
     "text": [
      "../data/Modis_Fire_Date/max_tif_tiles/2005\n",
      "CPU times: user 34 s, sys: 1min 53s, total: 2min 27s\n",
      "Wall time: 1h 44min 52s\n"
     ]
    }
   ],
   "source": [
    "%%time\n",
    "for img in mosaic_files:\n",
    "    # define tiles path\n",
    "    path='../data/Modis_Fire_Date/max_tif_tiles/'\n",
    "    input_path=img\n",
    "    year_info=os.path.basename(img)[-8:-4]\n",
    "    try:\n",
    "        # create year folder under target folder (path)\n",
    "        os.mkdir(path+year_info)\n",
    "    except:\n",
    "        pass\n",
    "    \n",
    "    # name of tile image\n",
    "    output_path=path+year_info+'/modis_MCD64A1_burned_area_'+year_info+'_tile_'\n",
    "    ds = gdal.Open(img)\n",
    "    band = ds.GetRasterBand(1)\n",
    "    xsize = band.XSize\n",
    "    ysize = band.YSize\n",
    "    # define your tile size\n",
    "    # it could be 256,512 or 1024. it depends on your scope\n",
    "    tile_size_x = 512\n",
    "    tile_size_y = 512\n",
    "    for i in range(0, xsize, tile_size_x):\n",
    "        if xsize-i < tile_size_x:\n",
    "            i=xsize-tile_size_x            \n",
    "        for j in range(0, ysize, tile_size_y):\n",
    "            if ysize-j < tile_size_y:\n",
    "                j=ysize-tile_size_y\n",
    "    \n",
    "            com_string = \"gdal_translate -of GTIFF -srcwin \" + str(i)+ \", \" + str(j) + \", \" + str(tile_size_x) + \", \" + str(tile_size_y) + \" \" + str(input_path)+ \" \" + str(output_path)  + str(i) + \"_\" + str(j) + \".tif\"\n",
    "            #print(com_string)\n",
    "            os.system(com_string)\n",
    "        \n",
    "    # with this block, we delete tiles that include just nodata\n",
    "    tiles=glob.glob(path+year_info+'/*')\n",
    "    for img in tiles:\n",
    "        hdf_ds = gdal.Open(img, gdal.GA_ReadOnly)\n",
    "        array_img=hdf_ds.ReadAsArray()\n",
    "        np_where_img = numpy.where((array_img<1),-32768,(array_img))\n",
    "        check=numpy.all(np_where_img==-32768)\n",
    "        # if np_where_img all value equal nodata value\n",
    "        # remove the img\n",
    "        if check:\n",
    "            os.remove(img)\n",
    "            continue\n",
    "    \n",
    "    array_img=None\n",
    "    np_where_img=None\n",
    "    print(path+year_info)"
   ]
  },
  {
   "cell_type": "code",
   "execution_count": null,
   "metadata": {},
   "outputs": [],
   "source": []
  },
  {
   "cell_type": "code",
   "execution_count": null,
   "metadata": {},
   "outputs": [],
   "source": []
  }
 ],
 "metadata": {
  "kernelspec": {
   "display_name": "Python 3",
   "language": "python",
   "name": "python3"
  },
  "language_info": {
   "codemirror_mode": {
    "name": "ipython",
    "version": 3
   },
   "file_extension": ".py",
   "mimetype": "text/x-python",
   "name": "python",
   "nbconvert_exporter": "python",
   "pygments_lexer": "ipython3",
   "version": "3.6.9"
  }
 },
 "nbformat": 4,
 "nbformat_minor": 4
}
