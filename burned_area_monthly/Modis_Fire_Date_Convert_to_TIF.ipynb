{
 "cells": [
  {
   "cell_type": "markdown",
   "metadata": {},
   "source": [
    "### Convert hdf file to tif"
   ]
  },
  {
   "cell_type": "code",
   "execution_count": 68,
   "metadata": {},
   "outputs": [],
   "source": [
    "def ListofExtensionAndName(directory,extension):\n",
    "     \n",
    "        if len(directory) != None:\n",
    "            import os\n",
    "            FilesList = []\n",
    "            FileName=[]\n",
    "            for root, subdirectory, files in os.walk(directory):\n",
    "                for file in files:\n",
    "                    if file.endswith(extension):\n",
    "                        FilesList.append(os.path.join(root,file))\n",
    "                        base=os.path.basename(file)\n",
    "                        FileName.append(os.path.splitext(base)[0])\n",
    "\n",
    "            return sorted(FilesList),sorted(FileName)\n",
    "        else:\n",
    "            print(\"no\"+ extension +\"file for this directory\")"
   ]
  },
  {
   "cell_type": "code",
   "execution_count": 69,
   "metadata": {},
   "outputs": [],
   "source": [
    "import time\n",
    "import sys\n",
    "import glob\n",
    "from bs4 import BeautifulSoup\n",
    "import os\n",
    "import re\n",
    "import requests\n",
    "from osgeo import gdal,osr\n",
    "import numpy"
   ]
  },
  {
   "cell_type": "code",
   "execution_count": 136,
   "metadata": {},
   "outputs": [
    {
     "data": {
      "text/plain": [
       "228"
      ]
     },
     "execution_count": 136,
     "metadata": {},
     "output_type": "execute_result"
    }
   ],
   "source": [
    "folder_list=glob.glob('../data/Modis_Fire_Date/2*/*/')\n",
    "folder_list=sorted(folder_list)\n",
    "len(folder_list)"
   ]
  },
  {
   "cell_type": "code",
   "execution_count": 138,
   "metadata": {},
   "outputs": [
    {
     "data": {
      "text/plain": [
       "60"
      ]
     },
     "execution_count": 138,
     "metadata": {},
     "output_type": "execute_result"
    }
   ],
   "source": [
    "folder_list=folder_list[168:]\n",
    "len(folder_list)"
   ]
  },
  {
   "cell_type": "code",
   "execution_count": 140,
   "metadata": {},
   "outputs": [
    {
     "data": {
      "text/plain": [
       "'../data/Modis_Fire_Date/2019/2019.12.01/'"
      ]
     },
     "execution_count": 140,
     "metadata": {},
     "output_type": "execute_result"
    }
   ],
   "source": [
    "folder_list[-1]"
   ]
  },
  {
   "cell_type": "code",
   "execution_count": null,
   "metadata": {},
   "outputs": [],
   "source": []
  },
  {
   "cell_type": "code",
   "execution_count": 141,
   "metadata": {},
   "outputs": [],
   "source": [
    "for index,path in enumerate(folder_list,1):\n",
    "    modis_status=False\n",
    "    download_path=path\n",
    "    \n",
    "    # with this loop, we are checking the next month or next year file\n",
    "    # if next file is started the downloading, this script is started    \n",
    "    while modis_status is False:\n",
    "        # last year of the product\n",
    "        #################################\n",
    "        if download_path.split('/')[-3]=='2019':\n",
    "            modis_files=ListofExtensionAndName(download_path,'hdf')\n",
    "            modis_status=True\n",
    "        ###################################################\n",
    "        else:\n",
    "            modis_next_file=ListofExtensionAndName(folder_list[index],'hdf')\n",
    "            if len(modis_next_file[0])>1:                \n",
    "                #print(download_path)\n",
    "                modis_files=ListofExtensionAndName(download_path,'hdf')\n",
    "                modis_status=True\n",
    "            #every 5 minutes. check the target file\n",
    "            else:            \n",
    "                modis_status=False\n",
    "                time.sleep(300)\n",
    "    \n",
    "    \n",
    "    try:\n",
    "        #create tif file under target file > data/Modis_Fire_Date/2001/2001.01.01/tif\n",
    "        os.mkdir(download_path+'tif')\n",
    "    except:\n",
    "        pass\n",
    "    \n",
    "    for index2,img in enumerate(modis_files[0]):\n",
    "        convert_image=False\n",
    "        counter=0\n",
    "        while convert_image is False:\n",
    "            try:\n",
    "                # we get this information from gdalinfo output.\n",
    "                # gdalinfo target_file.hdf\n",
    "                img_path='HDF4_EOS:EOS_GRID:'+'\"{}\"'.format(img)+':MOD_Grid_Monthly_500m_DB_BA:\"Burn Date\"'\n",
    "                #print(img_path)\n",
    "                hdf_ds = gdal.Open(img_path, gdal.GA_ReadOnly)\n",
    "                array_img=hdf_ds.ReadAsArray()\n",
    "                #np_where_img = numpy.where((array_img<0),-32768,(array_img))\n",
    "                s_srs = hdf_ds.GetProjectionRef()\n",
    "                osng = osr.SpatialReference ()\n",
    "                osng.SetFromUserInput (s_srs)\n",
    "                geo_t = hdf_ds.GetGeoTransform ()\n",
    "                x_size = hdf_ds.RasterXSize # Raster xsize\n",
    "                y_size = hdf_ds.RasterYSize # Raster ysize\n",
    "                #create gdal memory file\n",
    "                mem_drv = gdal.GetDriverByName( 'MEM' )\n",
    "                dest = mem_drv.Create('', x_size,y_size, 1, gdal.GDT_Int16)\n",
    "                dest.SetGeoTransform( geo_t )\n",
    "                dest.SetProjection ( osng.ExportToWkt() )\n",
    "                #dest.GetRasterBand(1).SetNoDataValue(-32768)\n",
    "                dest.GetRasterBand(1).WriteArray(array_img)\n",
    "                #dest.GetRasterBand(1).WriteArray(np_where_img)\n",
    "                \n",
    "                output_path=download_path+'tif/'+modis_files[1][index2]+'.tif'\n",
    "                #print(output_path)\n",
    "                gdal.Warp(output_path, dest, format = 'GTiff')\n",
    "                #gdal.Warp(output_path, dest, format = 'GTiff',srcNodata=-32768,dstNodata=-32768)\n",
    "                dst_ds=None\n",
    "                mem_drv=None\n",
    "                convert_image=True\n",
    "            except:\n",
    "                convert_image=False\n",
    "                counter+=1\n",
    "                \n",
    "                if counter==10:\n",
    "                    with open(download_path+'error_list', 'a') as t:\n",
    "                        t.write(\"%s\\n\" % img)                \n",
    "                    print(img + ' couldnt be converted')\n",
    "                    print(\"Unexpected error:\", sys.exc_info()[0])\n",
    "                    break\n",
    "                continue"
   ]
  },
  {
   "cell_type": "code",
   "execution_count": null,
   "metadata": {},
   "outputs": [],
   "source": []
  },
  {
   "cell_type": "code",
   "execution_count": null,
   "metadata": {},
   "outputs": [],
   "source": []
  },
  {
   "cell_type": "code",
   "execution_count": null,
   "metadata": {},
   "outputs": [],
   "source": []
  }
 ],
 "metadata": {
  "kernelspec": {
   "display_name": "Python 3",
   "language": "python",
   "name": "python3"
  },
  "language_info": {
   "codemirror_mode": {
    "name": "ipython",
    "version": 3
   },
   "file_extension": ".py",
   "mimetype": "text/x-python",
   "name": "python",
   "nbconvert_exporter": "python",
   "pygments_lexer": "ipython3",
   "version": "3.6.9"
  }
 },
 "nbformat": 4,
 "nbformat_minor": 4
}
