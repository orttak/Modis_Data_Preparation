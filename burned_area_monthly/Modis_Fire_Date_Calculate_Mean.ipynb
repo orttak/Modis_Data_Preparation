{
 "cells": [
  {
   "cell_type": "markdown",
   "metadata": {},
   "source": [
    "#### Get the maximum value from Burned Area Monthly tiles\n",
    "\n",
    "Data source: https://lpdaac.usgs.gov/products/mcd64a1v006/\n",
    "\n",
    "\n",
    "resources:\n",
    "https://blog.dask.org/2019/06/20/load-image-data\n",
    "\n",
    "https://examples.dask.org/applications/satellite-imagery-geotiff.html"
   ]
  },
  {
   "cell_type": "code",
   "execution_count": 1,
   "metadata": {},
   "outputs": [],
   "source": [
    "from osgeo import gdal, osr\n",
    "import os\n",
    "import numpy as np\n",
    "import dask.array as da\n",
    "import time\n",
    "import dask\n",
    "import imageio\n",
    "import glob\n",
    "import sys\n",
    "import shutil"
   ]
  },
  {
   "cell_type": "code",
   "execution_count": 2,
   "metadata": {},
   "outputs": [],
   "source": [
    "def ListofExtensionAndName(directory,extension):\n",
    "     \n",
    "        if len(directory) != None:\n",
    "            import os\n",
    "            FilesList = []\n",
    "            FileName=[]\n",
    "            for root, subdirectory, files in os.walk(directory):\n",
    "                for file in files:\n",
    "                    if file.endswith(extension):\n",
    "                        FilesList.append(os.path.join(root,file))\n",
    "                        base=os.path.basename(file)\n",
    "                        FileName.append(os.path.splitext(base)[0])\n",
    "\n",
    "            return sorted(FilesList),sorted(FileName)\n",
    "        else:\n",
    "            print(\"no\"+ extension +\"file for this directory\")"
   ]
  },
  {
   "cell_type": "code",
   "execution_count": 12,
   "metadata": {},
   "outputs": [],
   "source": [
    "folder_list=glob.glob('../data/Modis_Fire_Date/*/*/')\n",
    "folder_list=sorted(folder_list)\n"
   ]
  },
  {
   "cell_type": "code",
   "execution_count": 13,
   "metadata": {},
   "outputs": [],
   "source": [
    "folder_list_copy=folder_list.copy()\n",
    "year_list=[]\n",
    "for index,folder in enumerate(range(len(folder_list)//12)):\n",
    "    try:\n",
    "        year_list.append(folder_list_copy[0:12])\n",
    "        del folder_list_copy[0:12]\n",
    "    except:\n",
    "        year_list.append(folder_list_copy)\n",
    "\n",
    "        "
   ]
  },
  {
   "cell_type": "code",
   "execution_count": null,
   "metadata": {},
   "outputs": [],
   "source": [
    "yearly_imgs_list = [[sorted(glob.glob(folder+'/tif/*.tif')) for folder in year] for year in year_list]\n"
   ]
  },
  {
   "cell_type": "code",
   "execution_count": null,
   "metadata": {},
   "outputs": [],
   "source": [
    "yearly_imgs_list[9]"
   ]
  },
  {
   "cell_type": "code",
   "execution_count": null,
   "metadata": {},
   "outputs": [],
   "source": [
    "yearly_imgs_list=yearly_imgs_list[9:]"
   ]
  },
  {
   "cell_type": "code",
   "execution_count": null,
   "metadata": {},
   "outputs": [],
   "source": [
    "len(yearly_imgs_list)"
   ]
  },
  {
   "cell_type": "code",
   "execution_count": null,
   "metadata": {},
   "outputs": [],
   "source": [
    "%%time\n",
    "for index,year in enumerate(yearly_imgs_list):\n",
    "    for index2 in range(268):\n",
    "        image_status=False\n",
    "        counter=0\n",
    "        #define target year\n",
    "        year_info=year[0][0].split('/')[3]\n",
    "        #under defined year, we check every mounth with the same MODIS tile nane\n",
    "        area_code=yearly_imgs_list[0][0][index2].split('.')[-4]\n",
    "        \n",
    "        target_imgs=[]\n",
    "        target_imgs=glob.glob('../data/Modis_Fire_Date/{}/*/tif/*{}*'.format(year_info,area_code))\n",
    "        #print(area_code)\n",
    "        if len(target_imgs)==0:\n",
    "            continue\n",
    "        \n",
    "        while image_status is False:\n",
    "            try:\n",
    "                array_list=[]\n",
    "                for index,img in enumerate(target_imgs):\n",
    "                    ds = gdal.Open(img)\n",
    "                    #print(ds)\n",
    "                    array=ds.ReadAsArray()\n",
    "                    dask_array=da.from_array(array,chunks=len(array)/2)\n",
    "                    array_list.append(dask_array)\n",
    "            \n",
    "\n",
    "                \n",
    "                stack = da.stack(array_list, axis=0)\n",
    "                max_array=stack.max(axis=0).compute()\n",
    "                \n",
    "                #print(target_imgs[0])\n",
    "                year_name=target_imgs[0].split('/')[3]\n",
    "                try:\n",
    "                    output_folder='../data/Modis_Fire_Date/'+year_name+'/max_tif/'\n",
    "                    os.mkdir(output_folder)\n",
    "                except:\n",
    "                    pass\n",
    "\n",
    "                s_srs = ds.GetProjectionRef()    \n",
    "                osng = osr.SpatialReference ()\n",
    "\n",
    "                #use last img to define name of the last product\n",
    "                # sample : 'h35v10'\n",
    "                folder_name=img.split('/')[-1].split('.')[-4]\n",
    "                \n",
    "                osng.SetFromUserInput ( s_srs )    \n",
    "                geo_t = ds.GetGeoTransform ()    \n",
    "                x_size = ds.RasterXSize # Raster xsize\n",
    "                y_size = ds.RasterYSize # Raster ysize\n",
    "                mem_drv= gdal.GetDriverByName( 'MEM')\n",
    "                dest = mem_drv.Create('', x_size,y_size, 1)\n",
    "                dest.SetGeoTransform( geo_t )\n",
    "                dest.SetProjection( osng.ExportToWkt())\n",
    "                dest.GetRasterBand(1).WriteArray(max_array)\n",
    "                output_max_path=output_folder+'modis_MCD64A1_max_'+folder_name+'.tif'\n",
    "                gdal.Warp(output_max_path, dest, format = 'GTiff')\n",
    "                max_array=None\n",
    "                dest=None\n",
    "                ds=None\n",
    "                mem_drv=None\n",
    "                image_status=True\n",
    "                #print(output_max_path)\n",
    "\n",
    "            except:            \n",
    "                image_status=False\n",
    "                counter+=1\n",
    "                if counter==10:\n",
    "                    print(target_imgs[0] + ' couldnt be calculated')\n",
    "                    print(\"Unexpected error:\", sys.exc_info()[0])\n",
    "                    break\n",
    "                continue\n",
    "    \n",
    "                "
   ]
  },
  {
   "cell_type": "code",
   "execution_count": 33,
   "metadata": {},
   "outputs": [],
   "source": [
    "#####################################\n",
    "#####################################"
   ]
  },
  {
   "cell_type": "markdown",
   "metadata": {},
   "source": [
    "##### Removing folders"
   ]
  },
  {
   "cell_type": "code",
   "execution_count": 54,
   "metadata": {},
   "outputs": [],
   "source": [
    "import shutil\n",
    "rm=glob.glob('../data/Modis_Fire_Date/*/*/tif')\n",
    "rm=sorted(rm)"
   ]
  },
  {
   "cell_type": "code",
   "execution_count": 55,
   "metadata": {},
   "outputs": [
    {
     "data": {
      "text/plain": [
       "'../data/Modis_Fire_Date/2019/2019.12.01/tif'"
      ]
     },
     "execution_count": 55,
     "metadata": {},
     "output_type": "execute_result"
    }
   ],
   "source": [
    "rm[-1]"
   ]
  },
  {
   "cell_type": "code",
   "execution_count": 56,
   "metadata": {},
   "outputs": [],
   "source": [
    "for i in rm:\n",
    "    #print(i)\n",
    "    shutil.rmtree(i,ignore_errors=True)"
   ]
  },
  {
   "cell_type": "code",
   "execution_count": 32,
   "metadata": {},
   "outputs": [],
   "source": [
    "#####################################\n",
    "#####################################"
   ]
  },
  {
   "cell_type": "markdown",
   "metadata": {},
   "source": [
    "#### Create yearly fire date data\n",
    "With this script, you can create yearly data from fire date data. In below, script get same tile in each month and\n",
    "get max value for each pixel. Last product is last fire date in each pixel. After create max tif file for each tile,\n",
    "script create mosaic and convert it EPSG:4326. At the end of the script, we delete raw mosaic tif file(sinusaidal coordiante system), and\n",
    "max_ tif file folders under year folder(2001/max_tif)"
   ]
  },
  {
   "cell_type": "code",
   "execution_count": 57,
   "metadata": {},
   "outputs": [],
   "source": [
    "folder_list=glob.glob('../data/Modis_Fire_Date/*/*/')\n",
    "folder_list=sorted(folder_list)\n",
    "folder_list_copy=folder_list.copy()\n",
    "year_list=[]\n",
    "\n",
    "for index,folder in enumerate(range(len(folder_list)//12)):\n",
    "\n",
    "    try:\n",
    "\n",
    "        year_list.append(folder_list_copy[0:12])\n",
    "\n",
    "        del folder_list_copy[0:12]\n",
    "\n",
    "    except:\n",
    "\n",
    "        year_list.append(folder_list_copy)        "
   ]
  },
  {
   "cell_type": "code",
   "execution_count": 58,
   "metadata": {},
   "outputs": [],
   "source": []
  },
  {
   "cell_type": "code",
   "execution_count": 59,
   "metadata": {},
   "outputs": [],
   "source": [
    "yearly_imgs_list = [[sorted(glob.glob(folder+'/tif/*.tif')) for folder in year] for year in year_list]\n",
    "len(yearly_imgs_list)"
   ]
  },
  {
   "cell_type": "code",
   "execution_count": 61,
   "metadata": {},
   "outputs": [
    {
     "name": "stdout",
     "output_type": "stream",
     "text": [
      "2015\n",
      "2016\n",
      "2017\n",
      "2018\n",
      "2019\n"
     ]
    }
   ],
   "source": [
    "for index,year in enumerate(yearly_imgs_list):\n",
    "    year_info=year[0][0].split('/')[3]\n",
    "    print(year_info)"
   ]
  },
  {
   "cell_type": "code",
   "execution_count": 62,
   "metadata": {},
   "outputs": [
    {
     "name": "stdout",
     "output_type": "stream",
     "text": [
      "../data/Modis_Fire_Date/max_tif_mosaic/modis_MCD64A1_burned_area_2015.tif\n",
      "../data/Modis_Fire_Date/max_tif_mosaic_4326/modis_MCD64A1_burned_area_2015.tif\n",
      "../data/Modis_Fire_Date/max_tif_mosaic/modis_MCD64A1_burned_area_2016.tif\n",
      "../data/Modis_Fire_Date/max_tif_mosaic_4326/modis_MCD64A1_burned_area_2016.tif\n",
      "../data/Modis_Fire_Date/max_tif_mosaic/modis_MCD64A1_burned_area_2017.tif\n",
      "../data/Modis_Fire_Date/max_tif_mosaic_4326/modis_MCD64A1_burned_area_2017.tif\n",
      "../data/Modis_Fire_Date/max_tif_mosaic/modis_MCD64A1_burned_area_2018.tif\n",
      "../data/Modis_Fire_Date/max_tif_mosaic_4326/modis_MCD64A1_burned_area_2018.tif\n",
      "../data/Modis_Fire_Date/max_tif_mosaic/modis_MCD64A1_burned_area_2019.tif\n",
      "../data/Modis_Fire_Date/max_tif_mosaic_4326/modis_MCD64A1_burned_area_2019.tif\n",
      "CPU times: user 33min 31s, sys: 4min 4s, total: 37min 35s\n",
      "Wall time: 2h 20min 19s\n"
     ]
    }
   ],
   "source": [
    "%%time\n",
    "for index,year in enumerate(yearly_imgs_list):\n",
    "    for index2 in range(268):\n",
    "        image_status=False\n",
    "        counter=0\n",
    "        #define target year\n",
    "        year_info=year[0][0].split('/')[3]\n",
    "        #under defined year, we check every mounth with the same MODIS tile nane\n",
    "        area_code=yearly_imgs_list[0][0][index2].split('.')[-4]\n",
    "        \n",
    "        #target_imgs=[]\n",
    "        target_imgs=glob.glob('../data/Modis_Fire_Date/{}/*/tif/*{}*'.format(year_info,area_code))\n",
    "        #print(area_code)\n",
    "        if len(target_imgs)==0:\n",
    "            break\n",
    "        \n",
    "        while image_status is False:\n",
    "            try:\n",
    "                array_list=[]\n",
    "                for index,img in enumerate(target_imgs):\n",
    "                    ds = gdal.Open(img)\n",
    "                    #print(ds)\n",
    "                    array=ds.ReadAsArray()\n",
    "                    array = np.where((array<0),-9999,(array))\n",
    "                    dask_array=da.from_array(array,chunks=len(array)/2)\n",
    "                    array_list.append(dask_array)\n",
    "            \n",
    "\n",
    "                \n",
    "                stack = da.stack(array_list, axis=0)\n",
    "                max_array=stack.max(axis=0).compute()\n",
    "                max_array = np.where((max_array==-9999),-32768,(max_array))\n",
    "                \n",
    "                \n",
    "                #print(target_imgs[0])\n",
    "                year_name=target_imgs[0].split('/')[3]\n",
    "                try:\n",
    "                    output_folder='../data/Modis_Fire_Date/'+year_name+'/max_tif/'\n",
    "                    os.mkdir(output_folder)\n",
    "                except:\n",
    "                    pass\n",
    "\n",
    "                s_srs = ds.GetProjectionRef()    \n",
    "                osng = osr.SpatialReference ()\n",
    "\n",
    "                #use last img to define name of the last product\n",
    "                # sample : 'h35v10'\n",
    "                folder_name=img.split('/')[-1].split('.')[-4]\n",
    "                \n",
    "                osng.SetFromUserInput(s_srs)    \n",
    "                geo_t = ds.GetGeoTransform ()    \n",
    "                x_size = ds.RasterXSize # Raster xsize\n",
    "                y_size = ds.RasterYSize # Raster ysize\n",
    "                mem_drv= gdal.GetDriverByName( 'MEM')\n",
    "                dest = mem_drv.Create('', x_size,y_size, 1,gdal.GDT_Int16)\n",
    "                dest.SetGeoTransform( geo_t )\n",
    "                dest.SetProjection( osng.ExportToWkt())\n",
    "                dest.GetRasterBand(1).WriteArray(max_array)\n",
    "                dest.GetRasterBand(1).SetNoDataValue(-32768)\n",
    "                output_max_path=output_folder+'modis_MCD64A1_max_'+folder_name+'.tif'\n",
    "                gdal.Warp(output_max_path, dest, format = 'GTiff',srcNodata=-32768,dstNodata=-32768)\n",
    "                max_array=None\n",
    "                stack=None\n",
    "                dest=None\n",
    "                ds=None\n",
    "                mem_drv=None\n",
    "                image_status=True\n",
    "                #print(output_max_path)\n",
    "\n",
    "            except:            \n",
    "                image_status=False\n",
    "                counter+=1\n",
    "                if counter==10:\n",
    "                    print(target_imgs[0] + ' couldnt be calculated')\n",
    "                    print(\"Unexpected error:\", sys.exc_info()[0])\n",
    "                    break\n",
    "                continue\n",
    "    \n",
    "    folder='../data/Modis_Fire_Date/'\n",
    "    download_path=folder+'max_tif_mosaic/'\n",
    "    tif_path=str(output_folder)\n",
    "    tif_list=ListofExtensionAndName(tif_path,'.tif')\n",
    "    txt_name=str(tif_path.split('/')[-3])+'_mosaic_list.txt'\n",
    "    with open(txt_name, 'w') as f:\n",
    "        for item in tif_list[0]:\n",
    "            f.write(\"%s\\n\" % item)\n",
    "    try:\n",
    "        os.mkdir(download_path)\n",
    "    except:\n",
    "        pass\n",
    "    mosaic_tif_name=download_path+'modis_MCD64A1_burned_area_'+str(tif_path.split('/')[-3])+'.tif'    \n",
    "    # be careful when you define NODATA or DATA TYPE \n",
    "    command = \"gdal_merge.py -init -32768 -a_nodata -32768 -ot Int16 -of GTiff -o %s --optfile %s\" % (mosaic_tif_name, txt_name)\n",
    "    # Run the command. os.system() returns value zero if the command was executed succesfully\n",
    "    os.system(command)\n",
    "    output_folder2='../data/Modis_Fire_Date/max_tif_mosaic_4326/'\n",
    "    print(mosaic_tif_name)\n",
    "    output_img_name=os.path.basename(mosaic_tif_name)\n",
    "    output_img_path=output_folder2+output_img_name\n",
    "    warp_command=f'gdalwarp -t_srs EPSG:4326 -dstnodata -32768.0 -r near -ot Int16 -of GTiff {mosaic_tif_name} {output_img_path}'\n",
    "    os.system(warp_command)\n",
    "    print(output_img_path)\n",
    "    gdal.Warp(output_img_path, mosaic_tif_name, format = 'GTiff',srcSRS='+proj=sinu +R=6371007.181 +nadgrids=@null +wktext' ,dstSRS = 'EPSG:4326',srcNodata=-32768,dstNodata=-32768)\n",
    "    os.remove(mosaic_tif_name)\n",
    "    shutil.rmtree(output_folder,ignore_errors=True)\n",
    "                "
   ]
  },
  {
   "cell_type": "code",
   "execution_count": null,
   "metadata": {},
   "outputs": [],
   "source": []
  },
  {
   "cell_type": "code",
   "execution_count": null,
   "metadata": {},
   "outputs": [],
   "source": []
  }
 ],
 "metadata": {
  "kernelspec": {
   "display_name": "Python 3",
   "language": "python",
   "name": "python3"
  },
  "language_info": {
   "codemirror_mode": {
    "name": "ipython",
    "version": 3
   },
   "file_extension": ".py",
   "mimetype": "text/x-python",
   "name": "python",
   "nbconvert_exporter": "python",
   "pygments_lexer": "ipython3",
   "version": "3.6.9"
  }
 },
 "nbformat": 4,
 "nbformat_minor": 4
}
