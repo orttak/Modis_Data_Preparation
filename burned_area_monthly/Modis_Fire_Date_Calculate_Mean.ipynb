{
 "cells": [
  {
   "cell_type": "markdown",
   "metadata": {},
   "source": [
    "#### Get the maximum value from Burned Area Monthly tiles\n",
    "\n",
    "Data source: https://lpdaac.usgs.gov/products/mcd64a1v006/\n",
    "\n",
    "\n",
    "resources:\n",
    "https://blog.dask.org/2019/06/20/load-image-data\n",
    "\n",
    "https://examples.dask.org/applications/satellite-imagery-geotiff.html"
   ]
  },
  {
   "cell_type": "code",
   "execution_count": 26,
   "metadata": {},
   "outputs": [],
   "source": [
    "from osgeo import gdal, osr\n",
    "import os\n",
    "import numpy as np\n",
    "import dask.array as da\n",
    "import time\n",
    "import dask\n",
    "import imageio\n",
    "import glob\n",
    "import sys"
   ]
  },
  {
   "cell_type": "code",
   "execution_count": 2,
   "metadata": {},
   "outputs": [],
   "source": [
    "def ListofExtensionAndName(directory,extension):\n",
    "     \n",
    "        if len(directory) != None:\n",
    "            import os\n",
    "            FilesList = []\n",
    "            FileName=[]\n",
    "            for root, subdirectory, files in os.walk(directory):\n",
    "                for file in files:\n",
    "                    if file.endswith(extension):\n",
    "                        FilesList.append(os.path.join(root,file))\n",
    "                        base=os.path.basename(file)\n",
    "                        FileName.append(os.path.splitext(base)[0])\n",
    "\n",
    "            return sorted(FilesList),sorted(FileName)\n",
    "        else:\n",
    "            print(\"no\"+ extension +\"file for this directory\")"
   ]
  },
  {
   "cell_type": "code",
   "execution_count": 3,
   "metadata": {},
   "outputs": [],
   "source": [
    "folder_list=glob.glob('../data/Modis_Fire_Date/*/*/')\n",
    "folder_list=sorted(folder_list)\n"
   ]
  },
  {
   "cell_type": "code",
   "execution_count": 5,
   "metadata": {},
   "outputs": [],
   "source": [
    "folder_list_copy=folder_list.copy()\n",
    "year_list=[]\n",
    "for index,folder in enumerate(range(len(folder_list)//12)):\n",
    "    try:\n",
    "        year_list.append(folder_list_copy[0:12])\n",
    "        del folder_list_copy[0:12]\n",
    "    except:\n",
    "        year_list.append(folder_list_copy)\n",
    "\n",
    "        "
   ]
  },
  {
   "cell_type": "code",
   "execution_count": 12,
   "metadata": {},
   "outputs": [],
   "source": [
    "yearly_imgs_list = [[sorted(glob.glob(folder+'/tif/*.tif')) for folder in year] for year in year_list]\n"
   ]
  },
  {
   "cell_type": "code",
   "execution_count": 51,
   "metadata": {},
   "outputs": [
    {
     "name": "stdout",
     "output_type": "stream",
     "text": [
      "CPU times: user 2min 55s, sys: 33.6 s, total: 3min 28s\n",
      "Wall time: 4min 40s\n"
     ]
    }
   ],
   "source": [
    "%%time\n",
    "for index,year in enumerate(yearly_imgs_list):\n",
    "    for index2 in range(268):\n",
    "        image_status=False\n",
    "        counter=0\n",
    "        #define target year\n",
    "        year_info=year[0][0].split('/')[3]\n",
    "        #under defined year, we check every mounth with the same MODIS tile nane\n",
    "        area_code=yearly_imgs_list[0][0][index2].split('.')[-4]\n",
    "        \n",
    "        target_imgs=[]\n",
    "        target_imgs=glob.glob('../data/Modis_Fire_Date/{}/*/tif/*{}*'.format(year_info,area_code))\n",
    "        #print(area_code)\n",
    "        if len(target_imgs)==0:\n",
    "            continue\n",
    "        \n",
    "        while image_status is False:\n",
    "            try:\n",
    "                array_list=[]\n",
    "                for index,img in enumerate(target_imgs):\n",
    "                    ds = gdal.Open(img)\n",
    "                    #print(ds)\n",
    "                    array=ds.ReadAsArray()\n",
    "                    dask_array=da.from_array(array,chunks=len(array)/2)\n",
    "                    array_list.append(dask_array)\n",
    "            \n",
    "\n",
    "                \n",
    "                stack = da.stack(array_list, axis=0)\n",
    "                max_array=stack.max(axis=0).compute()\n",
    "                \n",
    "                #print(target_imgs[0])\n",
    "                year_name=target_imgs[0].split('/')[3]\n",
    "                try:\n",
    "                    output_folder='../data/Modis_Fire_Date/'+year_name+'/max_tif/'\n",
    "                    os.mkdir(output_folder)\n",
    "                except:\n",
    "                    pass\n",
    "\n",
    "                s_srs = ds.GetProjectionRef()    \n",
    "                osng = osr.SpatialReference ()\n",
    "\n",
    "                #use last img to define name of the last product\n",
    "                # sample : 'h35v10'\n",
    "                folder_name=img.split('/')[-1].split('.')[-4]\n",
    "                \n",
    "                osng.SetFromUserInput ( s_srs )    \n",
    "                geo_t = ds.GetGeoTransform ()    \n",
    "                x_size = ds.RasterXSize # Raster xsize\n",
    "                y_size = ds.RasterYSize # Raster ysize\n",
    "                mem_drv= gdal.GetDriverByName( 'MEM')\n",
    "                dest = mem_drv.Create('', x_size,y_size, 1)\n",
    "                dest.SetGeoTransform( geo_t )\n",
    "                dest.SetProjection( osng.ExportToWkt())\n",
    "                dest.GetRasterBand(1).WriteArray(max_array)\n",
    "                output_max_path=output_folder+'modis_MCD64A1_max_'+folder_name+'.tif'\n",
    "                gdal.Warp(output_max_path, dest, format = 'GTiff')\n",
    "                max_array=None\n",
    "                dest=None\n",
    "                ds=None\n",
    "                mem_drv=None\n",
    "                image_status=True\n",
    "                #print(output_max_path)\n",
    "\n",
    "            except:            \n",
    "                image_status=False\n",
    "                counter+=1\n",
    "                if counter==10:\n",
    "                    print(target_imgs[0] + ' couldnt be calculated')\n",
    "                    print(\"Unexpected error:\", sys.exc_info()[0])\n",
    "                    break\n",
    "                continue\n",
    "    \n",
    "                "
   ]
  },
  {
   "cell_type": "code",
   "execution_count": null,
   "metadata": {},
   "outputs": [],
   "source": []
  },
  {
   "cell_type": "markdown",
   "metadata": {},
   "source": [
    "##### Removing folders"
   ]
  },
  {
   "cell_type": "code",
   "execution_count": 45,
   "metadata": {},
   "outputs": [],
   "source": [
    "import shutil\n",
    "rm=glob.glob('../data/Modis_Fire_Date/*/*/tif')"
   ]
  },
  {
   "cell_type": "code",
   "execution_count": 47,
   "metadata": {},
   "outputs": [],
   "source": [
    "for i in rm:\n",
    "    #print(i)\n",
    "    shutil.rmtree(i,ignore_errors=True)"
   ]
  },
  {
   "cell_type": "code",
   "execution_count": null,
   "metadata": {},
   "outputs": [],
   "source": []
  },
  {
   "cell_type": "code",
   "execution_count": null,
   "metadata": {},
   "outputs": [],
   "source": []
  }
 ],
 "metadata": {
  "kernelspec": {
   "display_name": "Python 3",
   "language": "python",
   "name": "python3"
  },
  "language_info": {
   "codemirror_mode": {
    "name": "ipython",
    "version": 3
   },
   "file_extension": ".py",
   "mimetype": "text/x-python",
   "name": "python",
   "nbconvert_exporter": "python",
   "pygments_lexer": "ipython3",
   "version": "3.6.9"
  }
 },
 "nbformat": 4,
 "nbformat_minor": 4
}
