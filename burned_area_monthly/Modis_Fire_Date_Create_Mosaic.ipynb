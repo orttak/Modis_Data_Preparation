{
 "cells": [
  {
   "cell_type": "code",
   "execution_count": 5,
   "metadata": {},
   "outputs": [],
   "source": [
    "def ListofExtensionAndName(directory,extension):\n",
    "     \n",
    "        if len(directory) != None:\n",
    "            import os\n",
    "            FilesList = []\n",
    "            FileName=[]\n",
    "            for root, subdirectory, files in os.walk(directory):\n",
    "                for file in files:\n",
    "                    if file.endswith(extension):\n",
    "                        FilesList.append(os.path.join(root,file))\n",
    "                        base=os.path.basename(file)\n",
    "                        FileName.append(os.path.splitext(base)[0])\n",
    "\n",
    "            return sorted(FilesList),sorted(FileName)\n",
    "        else:\n",
    "            print(\"no\"+ extension +\"file for this directory\")"
   ]
  },
  {
   "cell_type": "code",
   "execution_count": 6,
   "metadata": {},
   "outputs": [],
   "source": [
    "import time\n",
    "import sys\n",
    "import glob\n",
    "from bs4 import BeautifulSoup\n",
    "import os\n",
    "import re\n",
    "import requests\n",
    "from osgeo import gdal,osr\n",
    "import numpy\n"
   ]
  },
  {
   "cell_type": "code",
   "execution_count": 7,
   "metadata": {},
   "outputs": [],
   "source": [
    "folder_list=glob.glob('../data/Modis_Fire_Date/*/max_tif/')\n",
    "folder_list=sorted(folder_list)"
   ]
  },
  {
   "cell_type": "code",
   "execution_count": 8,
   "metadata": {},
   "outputs": [
    {
     "data": {
      "text/plain": [
       "['../data/Modis_Fire_Date/2001/max_tif/']"
      ]
     },
     "execution_count": 8,
     "metadata": {},
     "output_type": "execute_result"
    }
   ],
   "source": [
    "folder_list"
   ]
  },
  {
   "cell_type": "code",
   "execution_count": 14,
   "metadata": {},
   "outputs": [
    {
     "name": "stdout",
     "output_type": "stream",
     "text": [
      "2001_mosaic_list.txt\n",
      "../data/Modis_Fire_Date/max_tif_mosaic/modis_MCD64A1_burned_area_2001.tif\n"
     ]
    }
   ],
   "source": [
    "for folder in folder_list:\n",
    "    #download_path=folder+'max_tif_mosaic/'\n",
    "    folder2='../data/Modis_Fire_Date/'\n",
    "    download_path=folder2+'max_tif_mosaic/'\n",
    "    tif_path=folder\n",
    "    tif_list=ListofExtensionAndName(tif_path,'.tif')\n",
    "    txt_name=str(tif_path.split('/')[-3])+'_mosaic_list.txt'\n",
    "    print(txt_name)\n",
    "    with open(txt_name, 'w') as f:\n",
    "        for item in tif_list[0]:\n",
    "            f.write(\"%s/\\n\" % item)\n",
    "    try:\n",
    "        os.mkdir(download_path)\n",
    "    except:\n",
    "        pass\n",
    "    mosaic_tif_name=download_path+'modis_MCD64A1_burned_area_'+str(tif_path.split('/')[-3])+'.tif'    \n",
    "    # be careful when you define NODATA or DATA TYPE \n",
    "    command = \"gdal_merge.py -init -32768 -a_nodata -32768 -ot Int16 -of GTiff -o %s --optfile %s\" % (mosaic_tif_name, txt_name)\n",
    "    # Run the command. os.system() returns value zero if the command was executed succesfully\n",
    "    os.system(command)\n",
    "    print(mosaic_tif_name)    "
   ]
  },
  {
   "cell_type": "code",
   "execution_count": null,
   "metadata": {},
   "outputs": [],
   "source": [
    "max_tif_mosaic=glob.glob('../data/Modis_Fire_Date/max_tif_mosaic/*')\n",
    "max_tif_mosaic=sorted(max_tif_mosaic)"
   ]
  },
  {
   "cell_type": "code",
   "execution_count": null,
   "metadata": {},
   "outputs": [],
   "source": [
    "output_folder='../data/Modis_Fire_Date/max_tif_mosaic_4326/'\n",
    "for img in max_tif_mosaic[4:5]:\n",
    "    print(img)\n",
    "    output_img_name=os.path.basename(img)\n",
    "    output_img_path=output_folder+output_img_name\n",
    "    gdal.Warp(output_img_path, img, format = 'GTiff',srcSRS='+proj=sinu +R=6371007.181 +nadgrids=@null +wktext' ,dstSRS = 'EPSG:4326',srcNodata=-32768,dstNodata=-32768)\n",
    "    print(output_img_path)\n",
    "    print('---')\n",
    "    "
   ]
  },
  {
   "cell_type": "code",
   "execution_count": null,
   "metadata": {},
   "outputs": [],
   "source": []
  },
  {
   "cell_type": "code",
   "execution_count": null,
   "metadata": {},
   "outputs": [],
   "source": []
  },
  {
   "cell_type": "code",
   "execution_count": null,
   "metadata": {},
   "outputs": [],
   "source": []
  },
  {
   "cell_type": "code",
   "execution_count": null,
   "metadata": {},
   "outputs": [],
   "source": []
  }
 ],
 "metadata": {
  "kernelspec": {
   "display_name": "Python 3",
   "language": "python",
   "name": "python3"
  },
  "language_info": {
   "codemirror_mode": {
    "name": "ipython",
    "version": 3
   },
   "file_extension": ".py",
   "mimetype": "text/x-python",
   "name": "python",
   "nbconvert_exporter": "python",
   "pygments_lexer": "ipython3",
   "version": "3.6.9"
  }
 },
 "nbformat": 4,
 "nbformat_minor": 4
}
